{
 "metadata": {
  "language_info": {
   "codemirror_mode": {
    "name": "ipython",
    "version": 3
   },
   "file_extension": ".py",
   "mimetype": "text/x-python",
   "name": "python",
   "nbconvert_exporter": "python",
   "pygments_lexer": "ipython3",
   "version": 3
  },
  "orig_nbformat": 2
 },
 "nbformat": 4,
 "nbformat_minor": 2,
 "cells": [
  {
   "source": [
    "Inner join\n",
    "PostgreSQL was mentioned in the slides but you'll find that these joins and the material here applies to different forms of SQL as well.\n",
    "\n",
    "Throughout this course, you'll be working with the countries database containing information about the most populous world cities as well as country-level economic data, population data, and geographic data. This countries database also contains information on languages spoken in each country.\n",
    "\n",
    "You can see the different tables in this database by clicking on the tabs on the bottom right below query.sql. Click through them to get a sense for the types of data that each table contains before you continue with the course! Take note of the fields that appear to be shared across the tables.\n",
    "\n",
    "Recall from the video the basic syntax for an INNER JOIN, here including all columns in both tables:"
   ],
   "cell_type": "markdown",
   "metadata": {}
  },
  {
   "cell_type": "code",
   "execution_count": null,
   "metadata": {},
   "outputs": [],
   "source": [
    "SELECT *\n",
    "FROM left_table\n",
    "INNER JOIN right_table\n",
    "ON left_table.id = right_table.id;"
   ]
  },
  {
   "source": [
    "You'll start off with a SELECT statement and then build up to an inner join with the cities and countries tables. Let's get to it!"
   ],
   "cell_type": "markdown",
   "metadata": {}
  },
  {
   "source": [
    "Begin by selecting all columns from the cities table."
   ],
   "cell_type": "markdown",
   "metadata": {}
  },
  {
   "cell_type": "code",
   "execution_count": null,
   "metadata": {},
   "outputs": [],
   "source": [
    "SELECT *\n",
    "FROM cities"
   ]
  },
  {
   "source": [
    "Inner join the cities table on the left to the countries table on the right, keeping all of the fields in both tables.\n",
    "You should match the tables on the country_code field in cities and the code field in countries.\n",
    "Do not alias your tables here or in the next step. Using cities and countries is fine for now."
   ],
   "cell_type": "markdown",
   "metadata": {}
  },
  {
   "cell_type": "code",
   "execution_count": null,
   "metadata": {},
   "outputs": [],
   "source": [
    "SELECT *\n",
    "FROM cities\n",
    "INNER JOIN countries\n",
    "ON cities.country_code = countries.code"
   ]
  },
  {
   "source": [
    "Modify the SELECT statement to keep only the name of the city, the name of the country, and the name of the region the country resides in.\n",
    "\n",
    "Recall from our Intro to SQL for Data Science course that you can alias fields using AS. Alias the name of the city AS city and the name of the country AS country."
   ],
   "cell_type": "markdown",
   "metadata": {}
  },
  {
   "cell_type": "code",
   "execution_count": null,
   "metadata": {},
   "outputs": [],
   "source": [
    "SELECT cities.name AS City, countries.name AS country, region\n",
    "FROM cities\n",
    "INNER JOIN countries\n",
    "ON cities.country_code = countries.code"
   ]
  }
 ]
}